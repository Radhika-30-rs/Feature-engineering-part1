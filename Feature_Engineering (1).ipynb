{
  "nbformat": 4,
  "nbformat_minor": 0,
  "metadata": {
    "colab": {
      "provenance": []
    },
    "kernelspec": {
      "name": "python3",
      "display_name": "Python 3"
    },
    "language_info": {
      "name": "python"
    }
  },
  "cells": [
    {
      "cell_type": "markdown",
      "source": [
        "Assignment Questions"
      ],
      "metadata": {
        "id": "UKV6o-Op7Iiv"
      }
    },
    {
      "cell_type": "markdown",
      "source": [
        "ques 1-What is a parameter?\n",
        "\n",
        "Answer-n machine learning, a parameter is a variable that the model learns from the training data. These are the values that define how the model makes predictions."
      ],
      "metadata": {
        "id": "VeV9C4Le7Oip"
      }
    },
    {
      "cell_type": "markdown",
      "source": [
        "ques 2-**What is correlation?\n",
        "What does negative correlation mean?**\n",
        "\n",
        "Answer-Correlation measures the relationship between two variables — specifically, how one variable changes in relation to the other.\n",
        "A negative correlation means that as one variable increases, the other decreases, and vice versa."
      ],
      "metadata": {
        "id": "9SYCRw497pty"
      }
    },
    {
      "cell_type": "markdown",
      "source": [
        "ques 3-**Define Machine Learning. What are the main components in Machine Learning?**\n",
        "\n",
        "Answer-Machine Learning (ML) is a branch of artificial intelligence (AI) that focuses on building systems that learn from data to make predictions or decisions without being explicitly programmed.\n",
        "\n",
        "Components-Data\n",
        "\n",
        "Model\n",
        "\n",
        "Features\n",
        "\n",
        "Labels\n",
        "\n",
        "Training\n",
        "\n"
      ],
      "metadata": {
        "id": "tV7z7vkX8aZ6"
      }
    },
    {
      "cell_type": "markdown",
      "source": [
        "ques 4-**How does loss value help in determining whether the model is good or not?**\n",
        "\n",
        "Answer-The loss value is a numerical measure of how wrong the model's predictions are. It tells you how far off the model's predictions are from the actual (true) values.\n",
        "\n"
      ],
      "metadata": {
        "id": "ho2VzHUW8_-U"
      }
    },
    {
      "cell_type": "markdown",
      "source": [
        "ques 5-**What are continuous and categorical variables?**\n",
        "\n",
        "Answer- Continuous Variables\n",
        "These are numerical variables that can take any value within a range — including fractions and decimals\n",
        "\n",
        "Categorical Variables\n",
        "\n",
        "These are variables that represent categories or groups. They usually take on a limited number of values (often non-numeric)."
      ],
      "metadata": {
        "id": "zl2ocssC9RSM"
      }
    },
    {
      "cell_type": "markdown",
      "source": [
        "ques6-**How do we handle categorical variables in Machine Learning? What are the common techniques?**\n",
        "\n",
        "Answer-Machine learning models cannot work directly with text labels — they need numeric input. So, we must convert categorical variables into numbers before feeding them to the model.\n",
        "\n",
        "Common techniques-\n",
        "\n",
        "1. Label encoding\n",
        "\n",
        "2. One-Hot Encoding\n",
        "\n",
        "3. Binary Encoding\n",
        "\n",
        "4. Binary Encoding (Hybrid of label and one-hot)"
      ],
      "metadata": {
        "id": "-rCbjDUA9paL"
      }
    },
    {
      "cell_type": "markdown",
      "source": [
        "ques 7-**What do you mean by training and testing a dataset?**\n",
        "\n",
        "Answer-1. Training Dataset 🏋️\n",
        "This is the portion of data used to teach the model.\n",
        "\n",
        "The model learns patterns, relationships, and adjusts internal parameters (like weights).\n",
        "\n",
        "Think of it as the study material for the model.\n",
        "\n",
        "Example:\n",
        "If you're teaching a model to predict house prices, the training data includes house features (size, location) and the actual prices.\n",
        "\n",
        "\n",
        "2. Testing Dataset 🧠\n",
        "This is the unseen data used to evaluate the model's performance.\n",
        "\n",
        "The model does not see this data during training.\n",
        "\n",
        "Helps answer the question: \"How well will this model perform on new, real-world data?\"\n",
        "\n",
        "Example:\n",
        "You test the model with new house data it hasn’t seen before to check how close its predicted prices are to the actual prices."
      ],
      "metadata": {
        "id": "cj-X7iSq-058"
      }
    },
    {
      "cell_type": "markdown",
      "source": [
        "ues 8-**What is sklearn.preprocessing?**\n",
        "\n",
        "Answer- sklearn.preprocessing is a module in Scikit-learn that provides tools to prepare your data before feeding it into a machine learning model."
      ],
      "metadata": {
        "id": "IotqQ_Og_DyS"
      }
    },
    {
      "cell_type": "markdown",
      "source": [
        "ques9-**What is a Test set?**\n",
        "\n",
        "Answer-A test set is a portion of your dataset that you set aside and do not use during training your machine learning model."
      ],
      "metadata": {
        "id": "6dcatDFX_Sjn"
      }
    },
    {
      "cell_type": "markdown",
      "source": [
        "ques 10-**How do we split data for model fitting (training and testing) in Python?\n",
        "How do you approach a Machine Learning problem?**\n",
        "\n",
        "Answer- How to Approach a Machine Learning Problem\n",
        "Here’s a typical step-by-step approach:\n",
        "\n",
        "Step 1: Understand the Problem\n",
        "What are you trying to predict or classify?\n",
        "\n",
        "What kind of data do you have?\n",
        "\n",
        "Step 2: Collect and Explore Data\n",
        "Gather data.\n",
        "\n",
        "Explore it visually/statistically (summary stats, plots).\n",
        "\n",
        "Step 3: Preprocess Data\n",
        "Handle missing values.\n",
        "\n",
        "Encode categorical variables.\n",
        "\n",
        "Scale/normalize features if needed.\n",
        "\n",
        "Step 4: Split Data\n",
        "Separate into training and testing sets (and sometimes validation set).\n",
        "\n",
        "Step 5: Choose a Model\n",
        "Based on the problem type (classification, regression).\n",
        "\n",
        "Start simple (e.g., linear regression or decision tree).\n",
        "\n",
        "Step 6: Train the Model\n",
        "Use training data to fit the model.\n",
        "\n",
        "Step 7: Evaluate the Model\n",
        "Use test data to check performance.\n",
        "\n",
        "Use metrics like accuracy, precision, recall, RMSE depending on the problem.\n",
        "\n",
        "Step 8: Tune Hyperparameters\n",
        "Optimize model parameters for better performance (using validation set or cross-validation).\n",
        "\n",
        "Step 9: Deploy and Monitor\n",
        "Deploy the model for real-world use.\n",
        "\n",
        "Monitor performance and update as needed.\n",
        "\n"
      ],
      "metadata": {
        "id": "Prmnu057_gEw"
      }
    },
    {
      "cell_type": "code",
      "execution_count": null,
      "metadata": {
        "colab": {
          "base_uri": "https://localhost:8080/"
        },
        "id": "0HJEH0yP6-MU",
        "outputId": "f3789158-67db-4437-b22c-cfea8968c656"
      },
      "outputs": [
        {
          "output_type": "stream",
          "name": "stdout",
          "text": [
            "Training features: [[9, 10], [5, 6], [1, 2], [7, 8]]\n",
            "Testing features: [[3, 4]]\n"
          ]
        }
      ],
      "source": [
        "from sklearn.model_selection import train_test_split\n",
        "\n",
        "# Example data (features and target)\n",
        "X = [[1, 2], [3, 4], [5, 6], [7, 8], [9, 10]]  # features\n",
        "y = [0, 1, 0, 1, 0]  # labels\n",
        "\n",
        "# Split data: 80% training, 20% testing\n",
        "X_train, X_test, y_train, y_test = train_test_split(X, y, test_size=0.2, random_state=42)\n",
        "\n",
        "print(\"Training features:\", X_train)\n",
        "print(\"Testing features:\", X_test)"
      ]
    },
    {
      "cell_type": "markdown",
      "source": [
        "ques 11-**Why do we have to perform EDA before fitting a model to the data?**\n",
        "\n",
        "Answer-Understand the Data\n",
        "EDA helps you get familiar with your dataset’s structure, features, and target variable.\n",
        "\n",
        "What kinds of variables do you have?\n",
        "\n",
        "Are there missing values?\n",
        "\n",
        "What’s the distribution of each feature?\n",
        "\n",
        "Identify Data Quality Issues\n",
        "You can spot problems like:\n",
        "\n",
        "Missing or inconsistent data\n",
        "\n",
        "Outliers or extreme values\n",
        "\n",
        "Duplicates or errors\n",
        "Fixing these improves model accuracy.\n",
        "\n",
        "Discover Patterns and Relationships\n",
        "Visualizing data can reveal:\n",
        "\n",
        "Correlations between variables\n",
        "\n",
        "Important features that influence the target\n",
        "\n",
        "Potential feature interactions\n",
        "\n",
        "Guide Feature Engineering\n",
        "EDA suggests how to transform or create new features (e.g., grouping categories, normalizing values).\n",
        "\n",
        "Select Appropriate Models and Methods\n",
        "Knowing the data distribution and relationships can influence your choice of algorithms or preprocessing techniques.\n",
        "\n",
        "Avoid Surprises\n",
        "Catching anomalies or unexpected trends early prevents problems during training and evaluation.\n",
        "\n"
      ],
      "metadata": {
        "id": "psD6LhgkAGvN"
      }
    },
    {
      "cell_type": "markdown",
      "source": [
        "ques 12-**What is correlation?**\n",
        "\n",
        "Answer-Correlation is a statistical measure that describes the strength and direction of a relationship between two variables."
      ],
      "metadata": {
        "id": "dGfpnuzrBCkI"
      }
    },
    {
      "cell_type": "markdown",
      "source": [
        "ques 13-**What does negative correlation mean?**\n",
        "\n",
        "Answer-negative correlation means that as one variable increases, the other decreases, and vice versa."
      ],
      "metadata": {
        "id": "OdC5OIEgBNtb"
      }
    },
    {
      "cell_type": "markdown",
      "source": [
        "ques 14-**How can you find correlation between variables in Python?**\n",
        "\n",
        "Answer-"
      ],
      "metadata": {
        "id": "YkliJpg4BbN9"
      }
    },
    {
      "cell_type": "code",
      "source": [
        "import pandas as pd\n",
        "\n",
        "# Example DataFrame\n",
        "data = {\n",
        "    'height': [170, 165, 180, 175, 160],\n",
        "    'weight': [65, 59, 75, 70, 55],\n",
        "    'age': [25, 32, 28, 40, 22]\n",
        "}\n",
        "\n",
        "df = pd.DataFrame(data)\n",
        "\n",
        "# Calculate correlation matrix\n",
        "correlation_matrix = df.corr()\n",
        "\n",
        "print(correlation_matrix)"
      ],
      "metadata": {
        "colab": {
          "base_uri": "https://localhost:8080/"
        },
        "id": "bUEquBQIBn4K",
        "outputId": "0af8d208-0dd5-45f0-9522-4f7b816f1c95"
      },
      "execution_count": null,
      "outputs": [
        {
          "output_type": "stream",
          "name": "stdout",
          "text": [
            "          height    weight       age\n",
            "height  1.000000  0.998657  0.452679\n",
            "weight  0.998657  1.000000  0.431683\n",
            "age     0.452679  0.431683  1.000000\n"
          ]
        }
      ]
    },
    {
      "cell_type": "markdown",
      "source": [
        "ques15-**What is causation? Explain difference between correlation and causation with an example**\n",
        "\n",
        "Answer-Causation means that one event directly causes another to happen. In other words, a change in one variable produces a change in another.\n",
        "\n",
        "Correlation\tCausation\n",
        "Meaning\tTwo variables move together (related)\tOne variable directly causes change in the other\n",
        "Direction\tNo cause-effect implied\tClear cause-effect relationship\n",
        "Example\tIce cream sales and drowning incidents increase together in summer (correlated)\tSmoking causes lung cancer (causation)\n",
        "Interpretation\tVariables may be related due to coincidence or a third factor\tChanging the cause will affect the effect\n",
        "\n"
      ],
      "metadata": {
        "id": "YV7GCvQ7Bxgi"
      }
    },
    {
      "cell_type": "markdown",
      "source": [
        "ques 16-**What is an Optimizer? What are different types of optimizers? Explain each with an example.**\n",
        "\n",
        "Answer-An optimizer is an algorithm that adjusts the model's parameters (like weights in neural networks) to minimize the loss function during training.\n",
        "Its goal is to find the best set of parameters that make the model predictions as accurate as possible.\n",
        "\n",
        "Types-\n",
        "Gradient Descent (GD)\n",
        "The basic optimizer.\n",
        "\n",
        "Calculates the gradient (slope) of the loss function with respect to parameters for the entire training dataset.\n",
        "\n",
        "Updates parameters by moving in the direction of the negative gradient.\n",
        "\n",
        "Example:\n",
        "Imagine walking downhill on a mountain (loss surface) step-by-step until you reach the lowest point.\n",
        "\n",
        "Stochastic Gradient Descent (SGD)\n",
        "\n",
        "Mini-batch Gradient Descent"
      ],
      "metadata": {
        "id": "URSv2krQCGsg"
      }
    },
    {
      "cell_type": "markdown",
      "source": [
        "ques 17-**What is sklearn.linear_model ?**\n",
        "\n",
        "Answer-sklearn.linear_model is a module in Scikit-learn that contains a variety of linear models for regression and classification tasks."
      ],
      "metadata": {
        "id": "biCxhNEWC99u"
      }
    },
    {
      "cell_type": "markdown",
      "source": [
        "ques 18-**What does model.fit() do? What arguments must be given?**\n",
        "\n",
        "Answer-he .fit() method is how you train a machine learning model in Scikit-learn.\n",
        "\n",
        "It takes your training data as input.\n",
        "\n",
        "The model learns patterns from this data by adjusting its internal parameters.\n",
        "\n",
        "After .fit(), the model is ready to make predictions on new data.\n",
        "\n",
        "\n",
        "X\t- (input data), usually a 2D array or DataFrame with shape (n_samples, n_features)\n",
        "\n",
        "Y -Target values (labels or outputs), usually a 1D array or Series with length n_samples"
      ],
      "metadata": {
        "id": "sLjQGxX_DMzA"
      }
    },
    {
      "cell_type": "markdown",
      "source": [
        "ques 19-**What does model.predict() do? What arguments must be given?**\n",
        "\n",
        "Answer-The .predict() method is used to make predictions using a trained machine learning model.\n",
        "\n",
        "After you have trained your model with .fit(), you call .predict() to get the model’s output for new input data.\n",
        "\n",
        "It returns predicted labels (for classification) or predicted values (for regression).\n",
        "\n",
        "X\tFeatures/input data for prediction, usually a 2D array or DataFrame with shape (n_samples, n_features)"
      ],
      "metadata": {
        "id": "N1Ef3Ry7DoPu"
      }
    },
    {
      "cell_type": "markdown",
      "source": [
        "ques 20-**What are continuous and categorical variables**\n",
        "\n",
        "Answer-Continuous Variables\n",
        "These are variables that can take any numeric value within a range.\n",
        "\n",
        "They are measured and usually represent quantities.\n",
        "\n",
        "Examples:\n",
        "\n",
        "Height (e.g., 170.5 cm)\n",
        "\n",
        "Temperature (e.g., 23.7°C)\n",
        "\n",
        "Age (e.g., 29.5 years)\n",
        "\n",
        "Categorical Variables\n",
        "These represent categories or groups.\n",
        "\n",
        "They take on a limited set of discrete values or labels.\n",
        "\n",
        "Examples:\n",
        "\n",
        "Gender (Male, Female, Other)\n",
        "\n",
        "Color (Red, Blue, Green)\n",
        "\n",
        "Type of vehicle (Car, Truck, Bike)\n",
        "\n"
      ],
      "metadata": {
        "id": "mbhlaFynD_iV"
      }
    },
    {
      "cell_type": "markdown",
      "source": [
        "ques 21-**What is feature scaling? How does it help in Machine Learning?**\n",
        "\n",
        "Answer-Feature scaling is the process of normalizing or standardizing the range of features (input variables) so they have a similar scale.\n",
        "\n",
        "Why Do We Need Feature Scaling?\n",
        "Many machine learning algorithms perform better or converge faster when features are on a similar scale.\n",
        "\n",
        "Features with very different scales can bias the model toward variables with larger values.\n",
        "\n",
        "Examples of affected algorithms:\n",
        "\n",
        "Gradient-based methods (e.g., Linear Regression, Logistic Regression)\n",
        "\n",
        "Distance-based algorithms (e.g., K-Nearest Neighbors, SVMs)\n",
        "\n",
        "Neural networks\n",
        "\n"
      ],
      "metadata": {
        "id": "CD3MsAdkENaH"
      }
    },
    {
      "cell_type": "markdown",
      "source": [
        "ques 22-**How do we perform scaling in Python?**"
      ],
      "metadata": {
        "id": "s6z-4FB_Edz4"
      }
    },
    {
      "cell_type": "code",
      "source": [
        "from sklearn.preprocessing import StandardScaler\n",
        "import numpy as np\n",
        "\n",
        "# Example data\n",
        "X = np.array([[10, 2000],\n",
        "              [15, 3000],\n",
        "              [20, 4000]])\n",
        "\n",
        "scaler = StandardScaler()\n",
        "X_scaled = scaler.fit_transform(X)\n",
        "\n",
        "print(X_scaled)"
      ],
      "metadata": {
        "colab": {
          "base_uri": "https://localhost:8080/"
        },
        "id": "H8ke4FXIEqUo",
        "outputId": "7b2f0336-1b2f-4c03-99f5-4a719d819ca3"
      },
      "execution_count": null,
      "outputs": [
        {
          "output_type": "stream",
          "name": "stdout",
          "text": [
            "[[-1.22474487 -1.22474487]\n",
            " [ 0.          0.        ]\n",
            " [ 1.22474487  1.22474487]]\n"
          ]
        }
      ]
    },
    {
      "cell_type": "markdown",
      "source": [
        "ques23-**What is sklearn.preprocessing?**\n",
        "\n",
        "Answeer-sklearn.preprocessing is a module in Scikit-learn that provides utilities and functions for data preprocessing — mainly transforming raw data into a format suitable for machine learning models."
      ],
      "metadata": {
        "id": "-f6SNpLjEr2j"
      }
    },
    {
      "cell_type": "markdown",
      "source": [
        "ques24-**How do we split data for model fitting (training and testing) in Python?**"
      ],
      "metadata": {
        "id": "AK1U53vnE3Jf"
      }
    },
    {
      "cell_type": "code",
      "source": [
        "from sklearn.model_selection import train_test_split\n",
        "import numpy as np\n",
        "\n",
        "# Example dataset\n",
        "X = np.array([[1], [2], [3], [4], [5], [6]])\n",
        "y = np.array([10, 20, 30, 40, 50, 60])\n",
        "\n",
        "# Split data: 80% train, 20% test\n",
        "X_train, X_test, y_train, y_test = train_test_split(\n",
        "    X, y, test_size=0.2, random_state=42\n",
        ")\n",
        "\n",
        "print(\"Training features:\", X_train)\n",
        "print(\"Testing features:\", X_test)"
      ],
      "metadata": {
        "colab": {
          "base_uri": "https://localhost:8080/"
        },
        "id": "p2jWHCYVFDG2",
        "outputId": "10481089-ff02-4047-d63f-5e66734dd1c1"
      },
      "execution_count": null,
      "outputs": [
        {
          "output_type": "stream",
          "name": "stdout",
          "text": [
            "Training features: [[6]\n",
            " [3]\n",
            " [5]\n",
            " [4]]\n",
            "Testing features: [[1]\n",
            " [2]]\n"
          ]
        }
      ]
    },
    {
      "cell_type": "markdown",
      "source": [
        "ques 25-**Explain data encoding?**\n",
        "\n",
        "Answer-Data encoding is the process of converting categorical (non-numeric) data into numeric form so that machine learning algorithms can process it. Most ML models require numerical input, so encoding categorical variables is essential."
      ],
      "metadata": {
        "id": "YR-JskKVFFSg"
      }
    },
    {
      "cell_type": "code",
      "source": [],
      "metadata": {
        "id": "bJnDZWszAAJt"
      },
      "execution_count": null,
      "outputs": []
    }
  ]
}